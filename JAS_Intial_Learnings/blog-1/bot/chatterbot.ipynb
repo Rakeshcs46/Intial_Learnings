{
 "cells": [
  {
   "cell_type": "code",
   "execution_count": 1,
   "id": "6936a5d0",
   "metadata": {},
   "outputs": [
    {
     "ename": "ModuleNotFoundError",
     "evalue": "No module named 'chatterbot'",
     "output_type": "error",
     "traceback": [
      "\u001b[0;31m---------------------------------------------------------------------------\u001b[0m",
      "\u001b[0;31mModuleNotFoundError\u001b[0m                       Traceback (most recent call last)",
      "Cell \u001b[0;32mIn[1], line 1\u001b[0m\n\u001b[0;32m----> 1\u001b[0m \u001b[38;5;28;01mfrom\u001b[39;00m \u001b[38;5;21;01mchatterbot\u001b[39;00m \u001b[38;5;28;01mimport\u001b[39;00m ChatBot\n\u001b[1;32m      2\u001b[0m \u001b[38;5;28;01mfrom\u001b[39;00m \u001b[38;5;21;01mchatterbot\u001b[39;00m\u001b[38;5;21;01m.\u001b[39;00m\u001b[38;5;21;01mtrainers\u001b[39;00m \u001b[38;5;28;01mimport\u001b[39;00m ListTrainer\n\u001b[1;32m      3\u001b[0m \u001b[38;5;28;01mfrom\u001b[39;00m \u001b[38;5;21;01mcleaner\u001b[39;00m \u001b[38;5;28;01mimport\u001b[39;00m clean_corpus\n",
      "\u001b[0;31mModuleNotFoundError\u001b[0m: No module named 'chatterbot'"
     ]
    }
   ],
   "source": [
    "from chatterbot import ChatBot\n",
    "from chatterbot.trainers import ListTrainer\n",
    "from cleaner import clean_corpus\n",
    "\n",
    "\n",
    "CORPUS_FILE = \"chat.txt\"\n",
    "\n",
    "chatbot = ChatBot(\"Chatpot\")\n",
    "\n",
    "trainer = ListTrainer(chatbot)\n",
    "cleaned_corpus = clean_corpus(CORPUS_FILE)\n",
    "trainer.train(cleaned_corpus)\n",
    "\n",
    "exit_conditions = (\":q\", \"quit\", \"exit\")\n",
    "while True:\n",
    "    query = input(\"> \")\n",
    "    if query in exit_conditions:\n",
    "        break\n",
    "    else:\n",
    "        print(f\"🪴 {chatbot.get_response(query)}\")"
   ]
  },
  {
   "cell_type": "code",
   "execution_count": 2,
   "id": "303e27fe",
   "metadata": {},
   "outputs": [],
   "source": [
    "import re\n",
    "\n",
    "\n",
    "def clean_corpus(chat_export_file):\n",
    "    \"\"\"Prepare a WhatsApp chat export for training with chatterbot.\"\"\"\n",
    "    message_corpus = remove_chat_metadata(chat_export_file)\n",
    "    cleaned_corpus = remove_non_message_text(message_corpus)\n",
    "    return cleaned_corpus\n",
    "\n",
    "\n",
    "def remove_chat_metadata(chat_export_file):\n",
    "    \"\"\"Remove WhatsApp chat metadata.\n",
    "\n",
    "    WhatsApp chat exports come with metadata about each message:\n",
    "\n",
    "     date    time    username  message\n",
    "    ---------------------------------------\n",
    "    8/26/22, 17:47 - Jane Doe: Message text\n",
    "\n",
    "    This function removes all the metadata up to the text of each message.\n",
    "\n",
    "    Args:\n",
    "        chat_export_file (str): The name of the chat export file\n",
    "\n",
    "    Returns:\n",
    "        tuple: The text of each message in the conversation\n",
    "    \"\"\"\n",
    "    date_time = r\"(\\d+\\/\\d+\\/\\d+,\\s\\d+:\\d+)\"  # e.g. \"8/26/22, 17:47\"\n",
    "    dash_whitespace = r\"\\s-\\s\"  # \" - \"\n",
    "    username = r\"([\\w\\s]+)\"  # e.g. \"Jane Doe\"\n",
    "    metadata_end = r\":\\s\"  # \": \"\n",
    "    pattern = date_time + dash_whitespace + username + metadata_end\n",
    "\n",
    "    with open(chat_export_file, \"r\") as corpus_file:\n",
    "        content = corpus_file.read()\n",
    "    cleaned_corpus = re.sub(pattern, \"\", content)\n",
    "    return tuple(cleaned_corpus.split(\"\\n\"))\n",
    "\n",
    "\n",
    "def remove_non_message_text(export_text_lines):\n",
    "    \"\"\"Remove conversation-irrelevant text from chat export.\n",
    "\n",
    "    WhatsApp chat exports come with a standardized intro line,\n",
    "    and an empty line at the end of the file.\n",
    "    Text exports also replace media messages with text that isn't\n",
    "    relevant for the conversation. This function removes all that.\n",
    "\n",
    "    Args:\n",
    "        export_text_lines (tuple): All lines from the export file\n",
    "\n",
    "    Returns:\n",
    "        tuple: Messages that are a relevant part of the conversation\n",
    "    \"\"\"\n",
    "    messages = export_text_lines[1:-1]\n",
    "\n",
    "    filter_out_msgs = (\"<Media omitted>\",)\n",
    "    return tuple((msg for msg in messages if msg not in filter_out_msgs))\n"
   ]
  },
  {
   "cell_type": "code",
   "execution_count": null,
   "id": "bda58cc6",
   "metadata": {},
   "outputs": [],
   "source": []
  }
 ],
 "metadata": {
  "kernelspec": {
   "display_name": "Python 3 (ipykernel)",
   "language": "python",
   "name": "python3"
  },
  "language_info": {
   "codemirror_mode": {
    "name": "ipython",
    "version": 3
   },
   "file_extension": ".py",
   "mimetype": "text/x-python",
   "name": "python",
   "nbconvert_exporter": "python",
   "pygments_lexer": "ipython3",
   "version": "3.10.6"
  }
 },
 "nbformat": 4,
 "nbformat_minor": 5
}
