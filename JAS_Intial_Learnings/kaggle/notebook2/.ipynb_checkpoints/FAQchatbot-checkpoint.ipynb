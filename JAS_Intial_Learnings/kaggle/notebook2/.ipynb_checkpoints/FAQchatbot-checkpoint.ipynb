{
 "cells": [
  {
   "cell_type": "code",
   "execution_count": 1,
   "id": "3626a868",
   "metadata": {},
   "outputs": [
    {
     "name": "stdout",
     "output_type": "stream",
     "text": [
      "/kaggle\\FAQchatbot.ipynb\n",
      "/kaggle\\Kaggle mentalbot .ipynb\n",
      "/kaggle\\.ipynb_checkpoints\\FAQchatbot-checkpoint.ipynb\n",
      "/kaggle\\.ipynb_checkpoints\\Kaggle mentalbot -checkpoint.ipynb\n"
     ]
    }
   ],
   "source": [
    "import numpy as np # linear algebra\n",
    "import pandas as pd # data processing, CSV file I/O (e.g. pd.read_csv)\n",
    "\n",
    "import os\n",
    "for dirname, _, filenames in os.walk('/kaggle'):\n",
    "    for filename in filenames:\n",
    "        print(os.path.join(dirname, filename))\n",
    "\n",
    "from sentence_transformers import SentenceTransformer"
   ]
  },
  {
   "cell_type": "code",
   "execution_count": 2,
   "id": "86b2416c",
   "metadata": {},
   "outputs": [
    {
     "data": {
      "application/vnd.jupyter.widget-view+json": {
       "model_id": "e01488ad0a654248a34cd113be4257b1",
       "version_major": 2,
       "version_minor": 0
      },
      "text/plain": [
       "Downloading (…)8b65a/.gitattributes:   0%|          | 0.00/690 [00:00<?, ?B/s]"
      ]
     },
     "metadata": {},
     "output_type": "display_data"
    },
    {
     "data": {
      "application/vnd.jupyter.widget-view+json": {
       "model_id": "c070c9ff4f3e48298a9dbad9618ccd6e",
       "version_major": 2,
       "version_minor": 0
      },
      "text/plain": [
       "Downloading (…)_Pooling/config.json:   0%|          | 0.00/190 [00:00<?, ?B/s]"
      ]
     },
     "metadata": {},
     "output_type": "display_data"
    },
    {
     "data": {
      "application/vnd.jupyter.widget-view+json": {
       "model_id": "926a8945d2694402ac508204be72f914",
       "version_major": 2,
       "version_minor": 0
      },
      "text/plain": [
       "Downloading (…)dbd8f8b65a/README.md:   0%|          | 0.00/2.87k [00:00<?, ?B/s]"
      ]
     },
     "metadata": {},
     "output_type": "display_data"
    },
    {
     "data": {
      "application/vnd.jupyter.widget-view+json": {
       "model_id": "e11d5af1a8c24ce4ae0b25a0b0bad5f6",
       "version_major": 2,
       "version_minor": 0
      },
      "text/plain": [
       "Downloading (…)d8f8b65a/config.json:   0%|          | 0.00/669 [00:00<?, ?B/s]"
      ]
     },
     "metadata": {},
     "output_type": "display_data"
    },
    {
     "data": {
      "application/vnd.jupyter.widget-view+json": {
       "model_id": "1fde93becbc4478eaf3788e225768ec6",
       "version_major": 2,
       "version_minor": 0
      },
      "text/plain": [
       "Downloading (…)ce_transformers.json:   0%|          | 0.00/122 [00:00<?, ?B/s]"
      ]
     },
     "metadata": {},
     "output_type": "display_data"
    },
    {
     "data": {
      "application/vnd.jupyter.widget-view+json": {
       "model_id": "39836ec3660c48deabddb9c27b2c8e45",
       "version_major": 2,
       "version_minor": 0
      },
      "text/plain": [
       "Downloading pytorch_model.bin:   0%|          | 0.00/438M [00:00<?, ?B/s]"
      ]
     },
     "metadata": {},
     "output_type": "display_data"
    },
    {
     "data": {
      "application/vnd.jupyter.widget-view+json": {
       "model_id": "62fcfeda5dce4f40bdb1179c55317cd0",
       "version_major": 2,
       "version_minor": 0
      },
      "text/plain": [
       "Downloading (…)nce_bert_config.json:   0%|          | 0.00/53.0 [00:00<?, ?B/s]"
      ]
     },
     "metadata": {},
     "output_type": "display_data"
    },
    {
     "data": {
      "application/vnd.jupyter.widget-view+json": {
       "model_id": "8a5c93c0ab074188af7ede8f7177d9e1",
       "version_major": 2,
       "version_minor": 0
      },
      "text/plain": [
       "Downloading (…)cial_tokens_map.json:   0%|          | 0.00/112 [00:00<?, ?B/s]"
      ]
     },
     "metadata": {},
     "output_type": "display_data"
    },
    {
     "data": {
      "application/vnd.jupyter.widget-view+json": {
       "model_id": "8d0b48102d4549c2a75a961cd9c913ac",
       "version_major": 2,
       "version_minor": 0
      },
      "text/plain": [
       "Downloading (…)8b65a/tokenizer.json:   0%|          | 0.00/466k [00:00<?, ?B/s]"
      ]
     },
     "metadata": {},
     "output_type": "display_data"
    },
    {
     "data": {
      "application/vnd.jupyter.widget-view+json": {
       "model_id": "eaa8793fa3e640a685de4f6760c2b4a9",
       "version_major": 2,
       "version_minor": 0
      },
      "text/plain": [
       "Downloading (…)okenizer_config.json:   0%|          | 0.00/450 [00:00<?, ?B/s]"
      ]
     },
     "metadata": {},
     "output_type": "display_data"
    },
    {
     "data": {
      "application/vnd.jupyter.widget-view+json": {
       "model_id": "9b67b85906d948eb97df98a4202f19bb",
       "version_major": 2,
       "version_minor": 0
      },
      "text/plain": [
       "Downloading (…)dbd8f8b65a/vocab.txt:   0%|          | 0.00/232k [00:00<?, ?B/s]"
      ]
     },
     "metadata": {},
     "output_type": "display_data"
    },
    {
     "data": {
      "application/vnd.jupyter.widget-view+json": {
       "model_id": "c4682502fdfd4434b1e1b7e134b35423",
       "version_major": 2,
       "version_minor": 0
      },
      "text/plain": [
       "Downloading (…)8f8b65a/modules.json:   0%|          | 0.00/229 [00:00<?, ?B/s]"
      ]
     },
     "metadata": {},
     "output_type": "display_data"
    }
   ],
   "source": [
    "model = SentenceTransformer('sentence-transformers/facebook-dpr-ctx_encoder-single-nq-base')"
   ]
  },
  {
   "cell_type": "code",
   "execution_count": 3,
   "id": "036666a2",
   "metadata": {},
   "outputs": [],
   "source": [
    "training_data = {\n",
    "    \"Hi there!\": \"Hello\",\n",
    "    \"Greetings!\": \"Hello\",\n",
    "    \"How are you?\": \"I am good.\",\n",
    "    \"Thank you\": \"You are welcome.\",\n",
    "    \"Hello\": \"Hi\",\n",
    "    \"How you doing?\": \"I am doing good. Thanks for asking.\",\n",
    "    \"Talk to you later!\": \"Bye.\",\n",
    "    \"Help me please\": \"How can I help you?\",\n",
    "}\n",
    "\n",
    "def get_similarity(query_encoding, training_data_encoding):\n",
    "    \"\"\"Calculate the cosine similarity\"\"\"\n",
    "    assert query_encoding.ndim == 2\n",
    "    assert training_data_encoding.ndim == 2\n",
    "    \n",
    "    cosine = np.dot(training_data_encoding, query_encoding.T).squeeze() / (np.linalg.norm(\n",
    "        training_data_encoding, axis=1)*(np.linalg.norm(query_encoding)))\n",
    "    return cosine\n",
    "\n",
    "\n",
    "def preprocess_text(text):\n",
    "    text = text.lower()\n",
    "    text = re.sub(\"[^a-zA-Z ]\", \" \", text)\n",
    "    text = re.sub(\"[ ]+\", \" \", text)\n",
    "    return text.strip()"
   ]
  },
  {
   "cell_type": "code",
   "execution_count": 5,
   "id": "67159c85",
   "metadata": {},
   "outputs": [],
   "source": [
    "def training_data_encoding(data):\n",
    "    encodings = model.encode(data)\n",
    "    return encodings"
   ]
  },
  {
   "cell_type": "code",
   "execution_count": 6,
   "id": "8fcb2aa8",
   "metadata": {},
   "outputs": [],
   "source": [
    "train_embeddings = training_data_encoding(list(training_data.keys()))"
   ]
  },
  {
   "cell_type": "code",
   "execution_count": 7,
   "id": "cf066eb0",
   "metadata": {},
   "outputs": [],
   "source": [
    "def get_similar_question(query, train_embeddings, n=1):\n",
    "    query_encoding = model.encode([query])\n",
    "    cosines = get_similarity(query_encoding, train_embeddings)\n",
    "    sorted_order = np.argsort(cosines)[::-1][:n]\n",
    "    return sorted_order, cosines[sorted_order]\n",
    "\n",
    "def get_answer(similar_question_index, answers):\n",
    "    return answers[similar_question_index]"
   ]
  },
  {
   "cell_type": "code",
   "execution_count": 8,
   "id": "5f6b4395",
   "metadata": {},
   "outputs": [
    {
     "name": "stdout",
     "output_type": "stream",
     "text": [
      "Query: How are you\n",
      "Matched: How are you?\n",
      "Answer: I am good.\n"
     ]
    }
   ],
   "source": [
    "query = \"How are you\"\n",
    "idx, confs = get_similar_question(query, train_embeddings)\n",
    "answer = get_answer(idx[0], list(training_data.values()))\n",
    "print(f\"Query: {query}\")\n",
    "print(f\"Matched: {list(training_data.keys())[idx[0]]}\")\n",
    "print(f\"Answer: {answer}\")"
   ]
  },
  {
   "cell_type": "code",
   "execution_count": null,
   "id": "add51f67",
   "metadata": {},
   "outputs": [],
   "source": []
  }
 ],
 "metadata": {
  "kernelspec": {
   "display_name": "Python 3 (ipykernel)",
   "language": "python",
   "name": "python3"
  },
  "language_info": {
   "codemirror_mode": {
    "name": "ipython",
    "version": 3
   },
   "file_extension": ".py",
   "mimetype": "text/x-python",
   "name": "python",
   "nbconvert_exporter": "python",
   "pygments_lexer": "ipython3",
   "version": "3.10.6"
  }
 },
 "nbformat": 4,
 "nbformat_minor": 5
}
