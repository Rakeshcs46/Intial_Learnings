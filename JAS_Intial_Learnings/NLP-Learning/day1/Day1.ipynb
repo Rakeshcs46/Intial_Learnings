{
 "cells": [
  {
   "cell_type": "markdown",
   "metadata": {},
   "source": [
    "#fstring litral  old way \n",
    "my_name = \"Raki\"\n",
    "print(\"My name is {}\".format(my_name))"
   ]
  },
  {
   "cell_type": "code",
   "execution_count": 10,
   "metadata": {},
   "outputs": [
    {
     "name": "stdout",
     "output_type": "stream",
     "text": [
      "My name is Raki\n"
     ]
    }
   ],
   "source": [
    "\n",
    "#fstring litral old way \n",
    "my_name = \"Raki\"\n",
    "print(\"My name is {}\".format(my_name))"
   ]
  },
  {
   "cell_type": "code",
   "execution_count": 12,
   "metadata": {},
   "outputs": [
    {
     "name": "stdout",
     "output_type": "stream",
     "text": [
      "my name is  Raki\n"
     ]
    }
   ],
   "source": [
    "#fstring litral \n",
    "my_name = \"Raki\"\n",
    "print(f\"my name is  {my_name}\")"
   ]
  },
  {
   "cell_type": "code",
   "execution_count": 14,
   "metadata": {},
   "outputs": [
    {
     "name": "stdout",
     "output_type": "stream",
     "text": [
      "My number is 123\n",
      "My no is 1\n"
     ]
    }
   ],
   "source": [
    "\n",
    "#operations withing the fstring litreal \n",
    "d = {'a':123,'b':234} \n",
    "print(f\"My number is {d['a']}\")\n",
    "a  = [1,2,3]\n",
    "print(f\"My no is {a[0]}\")"
   ]
  },
  {
   "cell_type": "code",
   "execution_count": 23,
   "metadata": {},
   "outputs": [
    {
     "data": {
      "text/plain": [
       "[('Author', 'Tutor', 'Pages'),\n",
       " ('Twain', 'Rafting in the summer ', 601),\n",
       " ('Fenyman', 'Physics', 95),\n",
       " ('Hamilton', 'Mythology', 144)]"
      ]
     },
     "execution_count": 23,
     "metadata": {},
     "output_type": "execute_result"
    }
   ],
   "source": [
    "#Also Discussing alignment and padding with Fstring literal  \n",
    "library = [('Author','Tutor','Pages'),('Twain','Rafting in the summer ',601),('Fenyman','Physics',95),('Hamilton','Mythology',144)]\n",
    "library"
   ]
  },
  {
   "cell_type": "code",
   "execution_count": 24,
   "metadata": {},
   "outputs": [
    {
     "name": "stdout",
     "output_type": "stream",
     "text": [
      "('Author', 'Tutor', 'Pages')\n",
      "('Twain', 'Rafting in the summer ', 601)\n",
      "('Fenyman', 'Physics', 95)\n",
      "('Hamilton', 'Mythology', 144)\n"
     ]
    }
   ],
   "source": [
    "for book in library:\n",
    "    print(book)\n",
    "    "
   ]
  },
  {
   "cell_type": "code",
   "execution_count": 25,
   "metadata": {},
   "outputs": [
    {
     "name": "stdout",
     "output_type": "stream",
     "text": [
      "Authour is Author\n",
      "Authour is Twain\n",
      "Authour is Fenyman\n",
      "Authour is Hamilton\n"
     ]
    }
   ],
   "source": [
    "#lets add fstring for the above loop \n",
    "for book in library:\n",
    "    print(f\"Authour is {book[0]}\")"
   ]
  },
  {
   "cell_type": "code",
   "execution_count": 35,
   "metadata": {},
   "outputs": [
    {
     "name": "stdout",
     "output_type": "stream",
     "text": [
      "Author     Tutor                                         Pages\n",
      "Twain      Rafting in the summer                           601\n",
      "Fenyman    Physics                                          95\n",
      "Hamilton   Mythology                                       144\n"
     ]
    }
   ],
   "source": [
    "#tuple upacking \n",
    "#and passing the  variable into curly braces \n",
    "#aliginment \n",
    "for author ,book , pages in library:\n",
    "    print(f\"{author:{10}} {book:{30}} {pages:>{20}}\")"
   ]
  },
  {
   "cell_type": "code",
   "execution_count": 40,
   "metadata": {},
   "outputs": [
    {
     "name": "stdout",
     "output_type": "stream",
     "text": [
      "2019-02-28 00:00:00\n"
     ]
    }
   ],
   "source": [
    "from datetime import datetime \n",
    "var = datetime(2019,2,28)\n",
    "print(f\"{var}\")"
   ]
  },
  {
   "cell_type": "code",
   "execution_count": null,
   "metadata": {},
   "outputs": [],
   "source": []
  }
 ],
 "metadata": {
  "kernelspec": {
   "display_name": "Python 3",
   "language": "python",
   "name": "python3"
  },
  "language_info": {
   "codemirror_mode": {
    "name": "ipython",
    "version": 3
   },
   "file_extension": ".py",
   "mimetype": "text/x-python",
   "name": "python",
   "nbconvert_exporter": "python",
   "pygments_lexer": "ipython3",
   "version": "3.8.10"
  }
 },
 "nbformat": 4,
 "nbformat_minor": 4
}
