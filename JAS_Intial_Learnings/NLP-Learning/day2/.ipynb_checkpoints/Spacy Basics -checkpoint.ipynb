{
 "cells": [
  {
   "cell_type": "code",
   "execution_count": 1,
   "metadata": {},
   "outputs": [],
   "source": [
    "#spacy Basics "
   ]
  },
  {
   "cell_type": "code",
   "execution_count": 2,
   "metadata": {},
   "outputs": [],
   "source": [
    "import spacy "
   ]
  },
  {
   "cell_type": "code",
   "execution_count": 4,
   "metadata": {},
   "outputs": [],
   "source": [
    "#loading the langauge library / loading a model \n",
    "nlp = spacy.load('en_core_web_sm')\n",
    "#en_core = core english language lintaty \n",
    "#web_sm = smaller version of the lib "
   ]
  },
  {
   "cell_type": "code",
   "execution_count": 68,
   "metadata": {},
   "outputs": [],
   "source": [
    "#doc object\n",
    "doc = nlp(u\"I am currently working on NLP project and annual salary is xk $ million or lakh or x  crore\")\n",
    "#do the reaseon for creating the the object bcoz spacy will parse this entire thing into separte componets\n",
    "#its goona parse into ecah words called token \n",
    "#so now each words is going to a token "
   ]
  },
  {
   "cell_type": "code",
   "execution_count": null,
   "metadata": {},
   "outputs": [],
   "source": []
  },
  {
   "cell_type": "code",
   "execution_count": 70,
   "metadata": {},
   "outputs": [
    {
     "name": "stdout",
     "output_type": "stream",
     "text": [
      "I PRON\n",
      "am AUX\n",
      "currently ADV\n",
      "working VERB\n",
      "on ADP\n",
      "NLP PROPN\n",
      "project NOUN\n",
      "and CCONJ\n",
      "annual ADJ\n",
      "salary NOUN\n",
      "is AUX\n",
      "xk ADP\n",
      "$ SYM\n",
      "million NUM\n",
      "or CCONJ\n",
      "lakh NOUN\n",
      "or CCONJ\n",
      "x NOUN\n",
      "  SPACE\n",
      "crore NOUN\n"
     ]
    }
   ],
   "source": [
    "#here i am iterarting and printning ceartin parameteres of the texts \n",
    "#here token.text lets seggegrate /seprate words ideally by behind there indiviusal meaning \n",
    "#her token.pos_ pos stands for parts of speech indivisuly tells us the pos of the words \n",
    "for token in doc:\n",
    "    print(token.text,token.pos_)"
   ]
  },
  {
   "cell_type": "code",
   "execution_count": 71,
   "metadata": {},
   "outputs": [
    {
     "data": {
      "text/plain": [
       "[('tok2vec', <spacy.pipeline.tok2vec.Tok2Vec at 0x7f16403757c0>),\n",
       " ('tagger', <spacy.pipeline.tagger.Tagger at 0x7f160b3d6b20>),\n",
       " ('parser', <spacy.pipeline.dep_parser.DependencyParser at 0x7f160b580200>),\n",
       " ('attribute_ruler',\n",
       "  <spacy.pipeline.attributeruler.AttributeRuler at 0x7f160b35dcc0>),\n",
       " ('lemmatizer',\n",
       "  <spacy.lang.en.lemmatizer.EnglishLemmatizer at 0x7f160b367b80>),\n",
       " ('ner', <spacy.pipeline.ner.EntityRecognizer at 0x7f160ccd0820>)]"
      ]
     },
     "execution_count": 71,
     "metadata": {},
     "output_type": "execute_result"
    }
   ],
   "source": [
    "#here \n",
    "nlp.pipeline"
   ]
  },
  {
   "cell_type": "code",
   "execution_count": 72,
   "metadata": {},
   "outputs": [
    {
     "data": {
      "text/plain": [
       "['tok2vec', 'tagger', 'parser', 'attribute_ruler', 'lemmatizer', 'ner']"
      ]
     },
     "execution_count": 72,
     "metadata": {},
     "output_type": "execute_result"
    }
   ],
   "source": [
    "#basic operation names \n",
    "nlp.pipe_names"
   ]
  },
  {
   "cell_type": "code",
   "execution_count": null,
   "metadata": {},
   "outputs": [],
   "source": [
    "#dicussing various attribute \n",
    "#tokenization \n"
   ]
  },
  {
   "cell_type": "code",
   "execution_count": 73,
   "metadata": {},
   "outputs": [],
   "source": [
    "doc2 = nlp(u\"I like working in Startups.\")"
   ]
  },
  {
   "cell_type": "code",
   "execution_count": 77,
   "metadata": {},
   "outputs": [
    {
     "name": "stdout",
     "output_type": "stream",
     "text": [
      "I PRON nsubj\n",
      "like VERB ROOT\n",
      "working VERB xcomp\n",
      "in ADP prep\n",
      "Startups PROPN pobj\n",
      ". PUNCT punct\n"
     ]
    }
   ],
   "source": [
    " for token in doc2:\n",
    "        print(token.text,token.pos_,token.dep_)"
   ]
  },
  {
   "cell_type": "code",
   "execution_count": 78,
   "metadata": {},
   "outputs": [
    {
     "data": {
      "text/plain": [
       "'PRON'"
      ]
     },
     "execution_count": 78,
     "metadata": {},
     "output_type": "execute_result"
    }
   ],
   "source": [
    "#using indexing to grab token indivusally \n",
    "doc2[0].pos_"
   ]
  },
  {
   "cell_type": "code",
   "execution_count": 79,
   "metadata": {},
   "outputs": [
    {
     "data": {
      "text/plain": [
       "'ROOT'"
      ]
     },
     "execution_count": 79,
     "metadata": {},
     "output_type": "execute_result"
    }
   ],
   "source": [
    "doc2[1].dep_"
   ]
  },
  {
   "cell_type": "code",
   "execution_count": 84,
   "metadata": {},
   "outputs": [],
   "source": [
    "dok = nlp(u\"Not ur day . so what dont stop. never think about losing  cause if you do your are a loser\")"
   ]
  },
  {
   "cell_type": "code",
   "execution_count": 85,
   "metadata": {},
   "outputs": [
    {
     "name": "stdout",
     "output_type": "stream",
     "text": [
      "Not ur day .\n",
      "so what dont stop.\n",
      "never think about losing  cause if you do your are a loser\n"
     ]
    }
   ],
   "source": [
    "for sentence in dok.sents:\n",
    "    print(sentence)"
   ]
  },
  {
   "cell_type": "code",
   "execution_count": 86,
   "metadata": {},
   "outputs": [
    {
     "data": {
      "text/plain": [
       "True"
      ]
     },
     "execution_count": 86,
     "metadata": {},
     "output_type": "execute_result"
    }
   ],
   "source": [
    "dok[4].is_sent_start"
   ]
  },
  {
   "cell_type": "code",
   "execution_count": null,
   "metadata": {},
   "outputs": [],
   "source": []
  }
 ],
 "metadata": {
  "kernelspec": {
   "display_name": "Python 3",
   "language": "python",
   "name": "python3"
  },
  "language_info": {
   "codemirror_mode": {
    "name": "ipython",
    "version": 3
   },
   "file_extension": ".py",
   "mimetype": "text/x-python",
   "name": "python",
   "nbconvert_exporter": "python",
   "pygments_lexer": "ipython3",
   "version": "3.8.10"
  }
 },
 "nbformat": 4,
 "nbformat_minor": 4
}
