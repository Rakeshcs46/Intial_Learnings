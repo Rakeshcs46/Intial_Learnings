{
 "cells": [
  {
   "cell_type": "code",
   "execution_count": 1,
   "metadata": {},
   "outputs": [],
   "source": [
    "#particular words such as ' a' and 'the  ' are very repatitive in a group of texts hence they require no tagging \n",
    "#these are called stop words they can be removed from the text to be processed \n",
    "#spacy holds around 305 stop words "
   ]
  },
  {
   "cell_type": "code",
   "execution_count": 2,
   "metadata": {},
   "outputs": [],
   "source": [
    "import spacy "
   ]
  },
  {
   "cell_type": "code",
   "execution_count": 3,
   "metadata": {},
   "outputs": [],
   "source": [
    "nlp = spacy.load(\"en_core_web_sm\")"
   ]
  },
  {
   "cell_type": "code",
   "execution_count": 4,
   "metadata": {},
   "outputs": [
    {
     "name": "stdout",
     "output_type": "stream",
     "text": [
      "{'doing', 'he', 'hence', 'seemed', 'what', 'across', 'rather', 'will', 'seems', \"'m\", 'yours', 'herein', 'keep', 'so', 'may', 'ourselves', 'already', 'seem', 'down', '’re', 'too', 'latterly', 'however', 'nor', 'be', 'whence', 'had', 'indeed', 'from', 'it', 'top', 'whereas', 'any', 'almost', \"'s\", 'with', 'move', 'becomes', 'even', 'many', 'used', 'never', 'thereupon', 'therefore', 'if', 'who', 'up', 'his', 'someone', 'n‘t', '’d', 'only', 'no', '‘ve', 'fifteen', 'on', 'them', 'did', 'though', 'wherein', 'whatever', 'the', 'enough', 'or', 'whose', 'all', 'to', 'something', 'although', '’ll', 'again', 'whoever', 'amongst', \"n't\", '‘ll', 'everyone', 'thence', 'latter', 'formerly', 'thereby', 'which', 'beside', 'than', 'least', 'less', 'such', 'using', 'then', 'side', 'next', 'do', 'below', 'itself', 'thru', 'toward', 'others', 'their', 'beforehand', 'throughout', 'nevertheless', 'anywhere', 'is', 'made', 'becoming', 'nothing', 'my', 'meanwhile', 'once', '’ve', 'after', 'against', 'nine', 'third', 'thereafter', 'mostly', 'also', 'very', 'put', 'give', 'behind', 'himself', 'none', 'ca', 'was', 're', 'along', 'become', 'five', 'would', 'most', 'at', 'sixty', \"'d\", 'anyhow', 'often', 'anything', 'not', 'out', 'unless', 'call', 'within', 'its', 'before', 'see', 'now', 'namely', 'because', 'i', 'empty', 'say', 'perhaps', 'another', 'beyond', 'cannot', '‘d', 'him', 'whereafter', 'take', 'part', \"'ve\", 'afterwards', 'when', 'together', 'four', 'both', 'neither', 'ever', 'your', 'but', 'you', 'elsewhere', 'n’t', 'seeming', 'where', 'besides', 'three', 'for', 'must', 'hereupon', 'am', 'several', '‘s', 'eight', 'themselves', 'should', 'whereby', 'herself', 'into', 'might', 'other', \"'re\", '’s', 'hundred', 'about', 'nowhere', 'this', 'me', 'via', 'show', 'various', 'therein', 'same', 'us', 'done', 'during', 'off', 'in', 'regarding', 'former', 'hers', 'back', 'sometimes', 'yet', 'are', 'there', 'hereby', 'else', 'moreover', 'noone', 'being', 'while', 'first', 'still', 'were', 'how', 'twenty', 'much', 'one', 'otherwise', 'can', 'own', 'quite', 'more', 'why', 'full', 'name', 'been', 'well', 'per', 'as', 'nobody', 'between', 'fifty', 'upon', 'among', 'yourself', 'somewhere', 'a', 'and', 'some', 'yourselves', 'could', 'whereupon', 'hereafter', 'our', 'last', 'by', 'under', 'has', 'whenever', 'whole', 'without', 'through', 'until', 'have', 'mine', 'around', 'we', 'each', 'twelve', 'since', 'alone', 'make', 'really', 'front', 'her', 'anyone', 'go', 'except', 'few', 'always', 'get', 'two', 'either', 'these', '‘re', 'whether', 'ten', 'whither', 'whom', 'does', 'became', 'that', 'please', 'over', 'everywhere', 'amount', 'of', 'due', 'just', 'bottom', 'further', 'myself', 'ours', 'thus', 'six', '‘m', 'everything', 'those', 'onto', 'sometime', \"'ll\", 'wherever', '’m', 'serious', 'anyway', 'above', 'they', 'forty', 'towards', 'every', 'eleven', 'somehow', 'she', 'here', 'an'}\n"
     ]
    }
   ],
   "source": [
    "print(nlp.Defaults.stop_words)"
   ]
  },
  {
   "cell_type": "code",
   "execution_count": 5,
   "metadata": {},
   "outputs": [
    {
     "data": {
      "text/plain": [
       "326"
      ]
     },
     "execution_count": 5,
     "metadata": {},
     "output_type": "execute_result"
    }
   ],
   "source": [
    "len(nlp.Defaults.stop_words)"
   ]
  },
  {
   "cell_type": "code",
   "execution_count": 6,
   "metadata": {},
   "outputs": [
    {
     "data": {
      "text/plain": [
       "False"
      ]
     },
     "execution_count": 6,
     "metadata": {},
     "output_type": "execute_result"
    }
   ],
   "source": [
    "nlp.vocab['btw'].is_stop"
   ]
  },
  {
   "cell_type": "code",
   "execution_count": 9,
   "metadata": {},
   "outputs": [],
   "source": [
    "#to add a stop words in our data set  we add by the the follwing command\n",
    "nlp.Defaults.stop_words.add('btw')"
   ]
  },
  {
   "cell_type": "code",
   "execution_count": 14,
   "metadata": {},
   "outputs": [],
   "source": [
    "#make it true in order to add this in the stop words dictonary on the spacy library\n",
    "nlp.vocab['btw'].is_stop  = True"
   ]
  },
  {
   "cell_type": "code",
   "execution_count": 15,
   "metadata": {},
   "outputs": [
    {
     "data": {
      "text/plain": [
       "True"
      ]
     },
     "execution_count": 15,
     "metadata": {},
     "output_type": "execute_result"
    }
   ],
   "source": [
    "nlp.vocab['btw'].is_stop"
   ]
  },
  {
   "cell_type": "code",
   "execution_count": 13,
   "metadata": {},
   "outputs": [
    {
     "data": {
      "text/plain": [
       "327"
      ]
     },
     "execution_count": 13,
     "metadata": {},
     "output_type": "execute_result"
    }
   ],
   "source": [
    "len(nlp.Defaults.stop_words)"
   ]
  },
  {
   "cell_type": "code",
   "execution_count": 16,
   "metadata": {},
   "outputs": [],
   "source": [
    "#remove stop words\n",
    "nlp.Defaults.stop_words.remove('btw')"
   ]
  },
  {
   "cell_type": "code",
   "execution_count": 17,
   "metadata": {},
   "outputs": [],
   "source": [
    "nlp.vocab['btw'].is_stop  = False"
   ]
  },
  {
   "cell_type": "code",
   "execution_count": 18,
   "metadata": {},
   "outputs": [
    {
     "data": {
      "text/plain": [
       "326"
      ]
     },
     "execution_count": 18,
     "metadata": {},
     "output_type": "execute_result"
    }
   ],
   "source": [
    "len(nlp.Defaults.stop_words)"
   ]
  },
  {
   "cell_type": "code",
   "execution_count": null,
   "metadata": {},
   "outputs": [],
   "source": []
  }
 ],
 "metadata": {
  "kernelspec": {
   "display_name": "Python 3",
   "language": "python",
   "name": "python3"
  },
  "language_info": {
   "codemirror_mode": {
    "name": "ipython",
    "version": 3
   },
   "file_extension": ".py",
   "mimetype": "text/x-python",
   "name": "python",
   "nbconvert_exporter": "python",
   "pygments_lexer": "ipython3",
   "version": "3.8.10"
  }
 },
 "nbformat": 4,
 "nbformat_minor": 4
}
